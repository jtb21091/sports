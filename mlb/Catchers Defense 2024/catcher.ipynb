{
 "cells": [
  {
   "cell_type": "code",
   "execution_count": 16,
   "id": "f9a08a03-1852-4240-a9b1-0765e94d1531",
   "metadata": {},
   "outputs": [
    {
     "data": {
      "text/plain": [
       "(   player_id       player_name team_name  start_year  end_year  pitches  \\\n",
       " 0     643376     Jansen, Danny       BOS        2024       NaN     2977   \n",
       " 1     665804     Amaya, Miguel       CHC        2024       NaN     3894   \n",
       " 2     669221      Murphy, Sean       ATL        2024       NaN     2432   \n",
       " 3     607732  Stallings, Jacob       COL        2024       NaN     3026   \n",
       " 4     668939  Rutschman, Adley       BAL        2024       NaN     3833   \n",
       " \n",
       "    catcher_blocking_runs  blocks_above_average  n_pbwp     x_pbwp  \\\n",
       " 0                      4                    15      14  28.590625   \n",
       " 1                      3                    13      25  37.674860   \n",
       " 2                      3                    11      12  23.020086   \n",
       " 3                      3                    11      17  27.514827   \n",
       " 4                      3                    11      23  33.551054   \n",
       " \n",
       "    blocks_above_average_per_game  freq_pbwp_easy  freq_pbwp_medium  \\\n",
       " 0                       0.196045        0.950957          0.036278   \n",
       " 1                       0.130199        0.945044          0.043143   \n",
       " 2                       0.181251        0.948191          0.040707   \n",
       " 3                       0.138993        0.951421          0.040648   \n",
       " 4                       0.110108        0.956692          0.032612   \n",
       " \n",
       "    freq_pbwp_tough  diff_pbwp_easy  diff_pbwp_medium  diff_pbwp_tough  \n",
       " 0         0.012765        3.767335          3.453673         7.369617  \n",
       " 1         0.011813        0.373716          9.083615         3.217529  \n",
       " 2         0.011102        0.735731          5.483618         4.800737  \n",
       " 3         0.007931        4.019627          4.247562         2.247639  \n",
       " 4         0.010697        2.998296          3.800826         3.751932  ,\n",
       "    player_id  player_name team_name  start_year  end_year  sb_attempts  \\\n",
       " 0     663698   Bart, Joey       PIT        2024      2024           45   \n",
       " 1     686676   Lee, Korey       CWS        2024      2024           54   \n",
       " 2     666310   Naylor, Bo       CLE        2024      2024           52   \n",
       " 3     641680  Heim, Jonah       TEX        2024      2024           73   \n",
       " 4     571912  Maile, Luke       CIN        2024      2024           30   \n",
       " \n",
       "    catcher_stealing_runs  caught_stealing_above_average  n_cs   rate_cs  ...  \\\n",
       " 0              -0.855523                      -1.316190    10  0.222222  ...   \n",
       " 1               3.050374                       4.692884    17  0.314815  ...   \n",
       " 2              -0.804359                      -1.237475     9  0.173077  ...   \n",
       " 3              -4.486153                      -6.901774     9  0.123288  ...   \n",
       " 4              -0.518681                      -0.797971     7  0.233333  ...   \n",
       " \n",
       "    runner_distance_from_second  pop_time  exchange_time  arm_strength  \\\n",
       " 0                    55.363382  2.023900       0.709633     79.499524   \n",
       " 1                    56.749409  1.852744       0.630419     84.652646   \n",
       " 2                    56.098034  1.962703       0.643514     78.189636   \n",
       " 3                    56.547031  1.976921       0.693159     81.106528   \n",
       " 4                    58.165321  1.966000       0.642778     78.945483   \n",
       " \n",
       "    n_xcs_with_flight_over_xcs  n_xcs_with_exchange_over_xcs  \\\n",
       " 0                    0.306883                     -3.477906   \n",
       " 1                    5.845281                      1.691344   \n",
       " 2                   -1.259599                      0.946940   \n",
       " 3                    2.139126                     -4.271212   \n",
       " 4                   -0.400590                      1.152383   \n",
       " \n",
       "    n_xcs_with_accuracy_over_xcs  n_xcs_with_ground_other_over_xcs  \\\n",
       " 0                     -0.155004                          0.875636   \n",
       " 1                      0.845855                          0.284665   \n",
       " 2                     -0.365202                          1.129578   \n",
       " 3                      2.534589                          1.070167   \n",
       " 4                     -1.280136                         -0.486196   \n",
       " \n",
       "    n_xcs_with_onfly_other_over_xcs  n_xcs_with_untracked_other_over_xcs  \n",
       " 0                         0.322322                             0.811881  \n",
       " 1                        -3.974261                             0.000000  \n",
       " 2                        -1.544039                            -0.145153  \n",
       " 3                        -8.374443                             0.000000  \n",
       " 4                         0.216568                             0.000000  \n",
       " \n",
       " [5 rows x 23 columns])"
      ]
     },
     "execution_count": 16,
     "metadata": {},
     "output_type": "execute_result"
    }
   ],
   "source": [
    "import pandas as pd\n",
    "\n",
    "# Load the data from the uploaded CSV files\n",
    "blocking_data = pd.read_csv('catcher_blocking.csv')\n",
    "throwing_data = pd.read_csv('catcher_throwing.csv')\n",
    "\n",
    "# Display the dataframes to understand their structure\n",
    "blocking_data.head(), throwing_data.head()\n"
   ]
  },
  {
   "cell_type": "code",
   "execution_count": 26,
   "id": "08f8cb36-6854-460f-b751-ccd96070f5d8",
   "metadata": {},
   "outputs": [
    {
     "ename": "ModuleNotFoundError",
     "evalue": "No module named 'ace_tools'",
     "output_type": "error",
     "traceback": [
      "\u001b[0;31m---------------------------------------------------------------------------\u001b[0m",
      "\u001b[0;31mModuleNotFoundError\u001b[0m                       Traceback (most recent call last)",
      "Cell \u001b[0;32mIn[26], line 36\u001b[0m\n\u001b[1;32m     33\u001b[0m \u001b[38;5;66;03m# Sorting by the overall defensive rank\u001b[39;00m\n\u001b[1;32m     34\u001b[0m catcher_combined_sorted \u001b[38;5;241m=\u001b[39m catcher_combined\u001b[38;5;241m.\u001b[39msort_values(by\u001b[38;5;241m=\u001b[39m\u001b[38;5;124m'\u001b[39m\u001b[38;5;124moverall_defensive_rank\u001b[39m\u001b[38;5;124m'\u001b[39m)\n\u001b[0;32m---> 36\u001b[0m \u001b[38;5;28;01mimport\u001b[39;00m \u001b[38;5;21;01mace_tools\u001b[39;00m \u001b[38;5;28;01mas\u001b[39;00m \u001b[38;5;21;01mtools\u001b[39;00m; tools\u001b[38;5;241m.\u001b[39mdisplay_dataframe_to_user(name\u001b[38;5;241m=\u001b[39m\u001b[38;5;124m\"\u001b[39m\u001b[38;5;124mCatcher Defensive Rankings\u001b[39m\u001b[38;5;124m\"\u001b[39m, dataframe\u001b[38;5;241m=\u001b[39mcatcher_combined_sorted)\n\u001b[1;32m     38\u001b[0m catcher_combined_sorted\u001b[38;5;241m.\u001b[39mhead()\n",
      "\u001b[0;31mModuleNotFoundError\u001b[0m: No module named 'ace_tools'"
     ]
    }
   ],
   "source": [
    "# Re-importing necessary libraries and reloading data to continue\n",
    "import pandas as pd\n",
    "\n",
    "# Reload the uploaded CSV files\n",
    "catcher_blocking = pd.read_csv('catcher_blocking.csv')\n",
    "catcher_throwing = pd.read_csv('catcher_throwing.csv')\n",
    "\n",
    "# Re-run the previous analysis for ranking and combining results\n",
    "\n",
    "# Ranking for blocking (columns G, H, and K)\n",
    "catcher_blocking['blocking_rank'] = (\n",
    "    catcher_blocking[['catcher_blocking_runs', 'blocks_above_average', 'blocks_above_average_per_game']]\n",
    "    .rank(ascending=False).mean(axis=1)\n",
    ")\n",
    "\n",
    "# Ranking for defensive metrics (columns H, J, L, O, P, Q)\n",
    "catcher_throwing['defensive_rank'] = (\n",
    "    catcher_throwing[\n",
    "        ['caught_stealing_above_average', 'rate_cs', 'pop_time', 'exchange_time',\n",
    "         'arm_strength', 'n_xcs_with_accuracy_over_xcs']\n",
    "    ]\n",
    "    .rank(ascending=False).mean(axis=1)\n",
    ")\n",
    "\n",
    "# Merging the two dataframes on 'player_id' for a combined defensive ranking\n",
    "catcher_combined = pd.merge(catcher_blocking, catcher_throwing, on='player_id', suffixes=('_block', '_throw'))\n",
    "\n",
    "# Calculate a combined defensive rank as an average of the two ranks\n",
    "catcher_combined['overall_defensive_rank'] = (\n",
    "    catcher_combined[['blocking_rank', 'defensive_rank']].mean(axis=1)\n",
    ")\n",
    "\n",
    "# Sorting by the overall defensive rank\n",
    "catcher_combined_sorted = catcher_combined.sort_values(by='overall_defensive_rank')\n",
    "\n",
    "import ace_tools as tools; tools.display_dataframe_to_user(name=\"Catcher Defensive Rankings\", dataframe=catcher_combined_sorted)\n",
    "\n",
    "catcher_combined_sorted.head()\n"
   ]
  },
  {
   "cell_type": "code",
   "execution_count": null,
   "id": "08f0b295-77bd-437a-b76e-20a7a3d873ce",
   "metadata": {},
   "outputs": [],
   "source": []
  }
 ],
 "metadata": {
  "kernelspec": {
   "display_name": "Python 3 (ipykernel)",
   "language": "python",
   "name": "python3"
  },
  "language_info": {
   "codemirror_mode": {
    "name": "ipython",
    "version": 3
   },
   "file_extension": ".py",
   "mimetype": "text/x-python",
   "name": "python",
   "nbconvert_exporter": "python",
   "pygments_lexer": "ipython3",
   "version": "3.11.7"
  }
 },
 "nbformat": 4,
 "nbformat_minor": 5
}
